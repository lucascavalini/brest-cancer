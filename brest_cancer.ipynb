{
  "nbformat": 4,
  "nbformat_minor": 0,
  "metadata": {
    "colab": {
      "name": "brest-cancer.ipynb",
      "provenance": [],
      "include_colab_link": true
    },
    "kernelspec": {
      "name": "python3",
      "display_name": "Python 3"
    }
  },
  "cells": [
    {
      "cell_type": "markdown",
      "metadata": {
        "id": "view-in-github",
        "colab_type": "text"
      },
      "source": [
        "<a href=\"https://colab.research.google.com/github/lucascavalini/brest-cancer/blob/master/brest_cancer.ipynb\" target=\"_parent\"><img src=\"https://colab.research.google.com/assets/colab-badge.svg\" alt=\"Open In Colab\"/></a>"
      ]
    },
    {
      "cell_type": "code",
      "metadata": {
        "id": "PsLNKWgppT5c",
        "colab_type": "code",
        "colab": {}
      },
      "source": [
        "import pandas as pd"
      ],
      "execution_count": 0,
      "outputs": []
    },
    {
      "cell_type": "code",
      "metadata": {
        "id": "Mw7ybudoBkNp",
        "colab_type": "code",
        "colab": {}
      },
      "source": [
        "input = 'https://raw.githubusercontent.com/lucascavalini/brest-cancer/master/entradas-breast.csv'\n",
        "output = 'https://raw.githubusercontent.com/lucascavalini/brest-cancer/master/saidas-breast.csv'"
      ],
      "execution_count": 0,
      "outputs": []
    },
    {
      "cell_type": "code",
      "metadata": {
        "id": "9BRZKY947YOa",
        "colab_type": "code",
        "colab": {}
      },
      "source": [
        "previsores = pd.read_csv(input)\n",
        "classe = pd.read_csv(output)"
      ],
      "execution_count": 0,
      "outputs": []
    },
    {
      "cell_type": "code",
      "metadata": {
        "id": "3xOG8butB-rx",
        "colab_type": "code",
        "colab": {}
      },
      "source": [
        "from sklearn.model_selection import train_test_split"
      ],
      "execution_count": 0,
      "outputs": []
    },
    {
      "cell_type": "code",
      "metadata": {
        "id": "HFIL1ht--0al",
        "colab_type": "code",
        "colab": {}
      },
      "source": [
        "previsores_treinamento, previsores_teste, classe_treinamento, classe_teste = train_test_split(previsores, classe, test_size = .25)"
      ],
      "execution_count": 0,
      "outputs": []
    },
    {
      "cell_type": "code",
      "metadata": {
        "id": "9rc7CkI_CHp4",
        "colab_type": "code",
        "colab": {
          "base_uri": "https://localhost:8080/",
          "height": 34
        },
        "outputId": "43928e81-4739-4eda-cb71-5bae5c8a820c"
      },
      "source": [
        "import keras\n",
        "from keras.models import Sequential\n",
        "from keras.layers import Dense"
      ],
      "execution_count": 19,
      "outputs": [
        {
          "output_type": "stream",
          "text": [
            "Using TensorFlow backend.\n"
          ],
          "name": "stderr"
        }
      ]
    },
    {
      "cell_type": "code",
      "metadata": {
        "id": "KPy5v1HmCK-R",
        "colab_type": "code",
        "colab": {
          "base_uri": "https://localhost:8080/",
          "height": 71
        },
        "outputId": "901f9dcc-8e99-4341-800a-d83d6f6e9b46"
      },
      "source": [
        "classificador = Sequential()\n",
        "classificador.add(Dense(units = 16, activation = 'relu', kernel_initializer = 'random_uniform', input_dim = 30))\n",
        "classificador.add(Dense(units = 1, activation='sigmoid'))"
      ],
      "execution_count": 20,
      "outputs": [
        {
          "output_type": "stream",
          "text": [
            "WARNING:tensorflow:From /usr/local/lib/python3.6/dist-packages/keras/backend/tensorflow_backend.py:66: The name tf.get_default_graph is deprecated. Please use tf.compat.v1.get_default_graph instead.\n",
            "\n"
          ],
          "name": "stdout"
        }
      ]
    },
    {
      "cell_type": "code",
      "metadata": {
        "id": "92aacIwfC0AK",
        "colab_type": "code",
        "colab": {
          "base_uri": "https://localhost:8080/",
          "height": 122
        },
        "outputId": "f5028c70-cbbd-42dd-a66f-1e31cf879dd4"
      },
      "source": [
        "classificador.compile(optimizer='adam', loss='binary_crossentropy', metrics=['binary_accuracy'])"
      ],
      "execution_count": 21,
      "outputs": [
        {
          "output_type": "stream",
          "text": [
            "WARNING:tensorflow:From /usr/local/lib/python3.6/dist-packages/keras/optimizers.py:793: The name tf.train.Optimizer is deprecated. Please use tf.compat.v1.train.Optimizer instead.\n",
            "\n",
            "WARNING:tensorflow:From /usr/local/lib/python3.6/dist-packages/tensorflow_core/python/ops/nn_impl.py:183: where (from tensorflow.python.ops.array_ops) is deprecated and will be removed in a future version.\n",
            "Instructions for updating:\n",
            "Use tf.where in 2.0, which has the same broadcast rule as np.where\n"
          ],
          "name": "stdout"
        }
      ]
    },
    {
      "cell_type": "code",
      "metadata": {
        "id": "fkQ2b_YVCiYo",
        "colab_type": "code",
        "colab": {
          "base_uri": "https://localhost:8080/",
          "height": 1000
        },
        "outputId": "ce093cfb-6430-4d02-94c1-36f0a5b3bc53"
      },
      "source": [
        "classificador.fit(previsores_treinamento, classe_treinamento, batch_size=10, epochs=100)"
      ],
      "execution_count": 22,
      "outputs": [
        {
          "output_type": "stream",
          "text": [
            "Epoch 1/100\n",
            "426/426 [==============================] - 1s 2ms/step - loss: 5.0215 - binary_accuracy: 0.5892\n",
            "Epoch 2/100\n",
            "426/426 [==============================] - 0s 100us/step - loss: 2.8429 - binary_accuracy: 0.5939\n",
            "Epoch 3/100\n",
            "426/426 [==============================] - 0s 111us/step - loss: 1.7470 - binary_accuracy: 0.6831\n",
            "Epoch 4/100\n",
            "426/426 [==============================] - 0s 112us/step - loss: 1.0973 - binary_accuracy: 0.7911\n",
            "Epoch 5/100\n",
            "426/426 [==============================] - 0s 129us/step - loss: 0.8601 - binary_accuracy: 0.8146\n",
            "Epoch 6/100\n",
            "426/426 [==============================] - 0s 117us/step - loss: 1.0159 - binary_accuracy: 0.8146\n",
            "Epoch 7/100\n",
            "426/426 [==============================] - 0s 120us/step - loss: 0.7647 - binary_accuracy: 0.8662\n",
            "Epoch 8/100\n",
            "426/426 [==============================] - 0s 111us/step - loss: 0.9535 - binary_accuracy: 0.8122\n",
            "Epoch 9/100\n",
            "426/426 [==============================] - 0s 118us/step - loss: 0.8483 - binary_accuracy: 0.8380\n",
            "Epoch 10/100\n",
            "426/426 [==============================] - 0s 123us/step - loss: 0.7632 - binary_accuracy: 0.8474\n",
            "Epoch 11/100\n",
            "426/426 [==============================] - 0s 113us/step - loss: 0.8902 - binary_accuracy: 0.8146\n",
            "Epoch 12/100\n",
            "426/426 [==============================] - 0s 119us/step - loss: 0.7190 - binary_accuracy: 0.8709\n",
            "Epoch 13/100\n",
            "426/426 [==============================] - 0s 118us/step - loss: 0.6920 - binary_accuracy: 0.8826\n",
            "Epoch 14/100\n",
            "426/426 [==============================] - 0s 115us/step - loss: 0.7513 - binary_accuracy: 0.8545\n",
            "Epoch 15/100\n",
            "426/426 [==============================] - 0s 120us/step - loss: 0.7951 - binary_accuracy: 0.8638\n",
            "Epoch 16/100\n",
            "426/426 [==============================] - 0s 113us/step - loss: 0.7367 - binary_accuracy: 0.8709\n",
            "Epoch 17/100\n",
            "426/426 [==============================] - 0s 112us/step - loss: 0.7273 - binary_accuracy: 0.8709\n",
            "Epoch 18/100\n",
            "426/426 [==============================] - 0s 123us/step - loss: 0.7338 - binary_accuracy: 0.8756\n",
            "Epoch 19/100\n",
            "426/426 [==============================] - 0s 123us/step - loss: 0.6940 - binary_accuracy: 0.8732\n",
            "Epoch 20/100\n",
            "426/426 [==============================] - 0s 118us/step - loss: 0.7132 - binary_accuracy: 0.8615\n",
            "Epoch 21/100\n",
            "426/426 [==============================] - 0s 121us/step - loss: 0.7283 - binary_accuracy: 0.8427\n",
            "Epoch 22/100\n",
            "426/426 [==============================] - 0s 114us/step - loss: 0.6666 - binary_accuracy: 0.8732\n",
            "Epoch 23/100\n",
            "426/426 [==============================] - 0s 122us/step - loss: 0.6236 - binary_accuracy: 0.8803\n",
            "Epoch 24/100\n",
            "426/426 [==============================] - 0s 109us/step - loss: 0.6950 - binary_accuracy: 0.8662\n",
            "Epoch 25/100\n",
            "426/426 [==============================] - 0s 112us/step - loss: 0.6883 - binary_accuracy: 0.8873\n",
            "Epoch 26/100\n",
            "426/426 [==============================] - 0s 113us/step - loss: 0.7645 - binary_accuracy: 0.8592\n",
            "Epoch 27/100\n",
            "426/426 [==============================] - 0s 111us/step - loss: 0.7250 - binary_accuracy: 0.8709\n",
            "Epoch 28/100\n",
            "426/426 [==============================] - 0s 145us/step - loss: 0.6662 - binary_accuracy: 0.8803\n",
            "Epoch 29/100\n",
            "426/426 [==============================] - 0s 124us/step - loss: 0.7321 - binary_accuracy: 0.8592\n",
            "Epoch 30/100\n",
            "426/426 [==============================] - 0s 112us/step - loss: 0.6172 - binary_accuracy: 0.8803\n",
            "Epoch 31/100\n",
            "426/426 [==============================] - 0s 112us/step - loss: 0.6486 - binary_accuracy: 0.8897\n",
            "Epoch 32/100\n",
            "426/426 [==============================] - 0s 119us/step - loss: 0.5977 - binary_accuracy: 0.8944\n",
            "Epoch 33/100\n",
            "426/426 [==============================] - 0s 115us/step - loss: 0.5881 - binary_accuracy: 0.9014\n",
            "Epoch 34/100\n",
            "426/426 [==============================] - 0s 117us/step - loss: 0.6245 - binary_accuracy: 0.8897\n",
            "Epoch 35/100\n",
            "426/426 [==============================] - 0s 110us/step - loss: 0.7254 - binary_accuracy: 0.8638\n",
            "Epoch 36/100\n",
            "426/426 [==============================] - 0s 119us/step - loss: 0.6385 - binary_accuracy: 0.8873\n",
            "Epoch 37/100\n",
            "426/426 [==============================] - 0s 118us/step - loss: 0.7784 - binary_accuracy: 0.8498\n",
            "Epoch 38/100\n",
            "426/426 [==============================] - 0s 112us/step - loss: 0.7405 - binary_accuracy: 0.8779\n",
            "Epoch 39/100\n",
            "426/426 [==============================] - 0s 113us/step - loss: 0.6381 - binary_accuracy: 0.9014\n",
            "Epoch 40/100\n",
            "426/426 [==============================] - 0s 138us/step - loss: 0.7311 - binary_accuracy: 0.8779\n",
            "Epoch 41/100\n",
            "426/426 [==============================] - 0s 121us/step - loss: 0.7051 - binary_accuracy: 0.8662\n",
            "Epoch 42/100\n",
            "426/426 [==============================] - 0s 112us/step - loss: 0.6409 - binary_accuracy: 0.8897\n",
            "Epoch 43/100\n",
            "426/426 [==============================] - 0s 115us/step - loss: 0.6183 - binary_accuracy: 0.9085\n",
            "Epoch 44/100\n",
            "426/426 [==============================] - 0s 117us/step - loss: 0.7640 - binary_accuracy: 0.8615\n",
            "Epoch 45/100\n",
            "426/426 [==============================] - 0s 116us/step - loss: 0.6032 - binary_accuracy: 0.9014\n",
            "Epoch 46/100\n",
            "426/426 [==============================] - 0s 120us/step - loss: 0.5996 - binary_accuracy: 0.9014\n",
            "Epoch 47/100\n",
            "426/426 [==============================] - 0s 111us/step - loss: 0.5769 - binary_accuracy: 0.8944\n",
            "Epoch 48/100\n",
            "426/426 [==============================] - 0s 113us/step - loss: 0.5560 - binary_accuracy: 0.9155\n",
            "Epoch 49/100\n",
            "426/426 [==============================] - 0s 111us/step - loss: 0.6560 - binary_accuracy: 0.8920\n",
            "Epoch 50/100\n",
            "426/426 [==============================] - 0s 122us/step - loss: 0.5842 - binary_accuracy: 0.9061\n",
            "Epoch 51/100\n",
            "426/426 [==============================] - 0s 107us/step - loss: 0.9495 - binary_accuracy: 0.8474\n",
            "Epoch 52/100\n",
            "426/426 [==============================] - 0s 114us/step - loss: 1.1690 - binary_accuracy: 0.8052\n",
            "Epoch 53/100\n",
            "426/426 [==============================] - 0s 109us/step - loss: 0.7306 - binary_accuracy: 0.8850\n",
            "Epoch 54/100\n",
            "426/426 [==============================] - 0s 119us/step - loss: 0.6183 - binary_accuracy: 0.8991\n",
            "Epoch 55/100\n",
            "426/426 [==============================] - 0s 110us/step - loss: 0.5949 - binary_accuracy: 0.8991\n",
            "Epoch 56/100\n",
            "426/426 [==============================] - 0s 111us/step - loss: 0.5932 - binary_accuracy: 0.9108\n",
            "Epoch 57/100\n",
            "426/426 [==============================] - 0s 110us/step - loss: 0.6217 - binary_accuracy: 0.9038\n",
            "Epoch 58/100\n",
            "426/426 [==============================] - 0s 107us/step - loss: 0.5965 - binary_accuracy: 0.9108\n",
            "Epoch 59/100\n",
            "426/426 [==============================] - 0s 150us/step - loss: 0.7799 - binary_accuracy: 0.8615\n",
            "Epoch 60/100\n",
            "426/426 [==============================] - 0s 108us/step - loss: 0.6949 - binary_accuracy: 0.8826\n",
            "Epoch 61/100\n",
            "426/426 [==============================] - 0s 121us/step - loss: 0.6273 - binary_accuracy: 0.8873\n",
            "Epoch 62/100\n",
            "426/426 [==============================] - 0s 113us/step - loss: 0.6141 - binary_accuracy: 0.9131\n",
            "Epoch 63/100\n",
            "426/426 [==============================] - 0s 128us/step - loss: 0.5737 - binary_accuracy: 0.9131\n",
            "Epoch 64/100\n",
            "426/426 [==============================] - 0s 108us/step - loss: 0.6202 - binary_accuracy: 0.8991\n",
            "Epoch 65/100\n",
            "426/426 [==============================] - 0s 112us/step - loss: 0.6390 - binary_accuracy: 0.9014\n",
            "Epoch 66/100\n",
            "426/426 [==============================] - 0s 121us/step - loss: 0.5906 - binary_accuracy: 0.8991\n",
            "Epoch 67/100\n",
            "426/426 [==============================] - 0s 138us/step - loss: 0.5639 - binary_accuracy: 0.9249\n",
            "Epoch 68/100\n",
            "426/426 [==============================] - 0s 113us/step - loss: 0.6469 - binary_accuracy: 0.8991\n",
            "Epoch 69/100\n",
            "426/426 [==============================] - 0s 115us/step - loss: 0.5985 - binary_accuracy: 0.8920\n",
            "Epoch 70/100\n",
            "426/426 [==============================] - 0s 113us/step - loss: 0.5810 - binary_accuracy: 0.9038\n",
            "Epoch 71/100\n",
            "426/426 [==============================] - 0s 118us/step - loss: 0.6552 - binary_accuracy: 0.8967\n",
            "Epoch 72/100\n",
            "426/426 [==============================] - 0s 107us/step - loss: 0.6122 - binary_accuracy: 0.9014\n",
            "Epoch 73/100\n",
            "426/426 [==============================] - 0s 120us/step - loss: 0.6003 - binary_accuracy: 0.9108\n",
            "Epoch 74/100\n",
            "426/426 [==============================] - 0s 118us/step - loss: 0.5774 - binary_accuracy: 0.9155\n",
            "Epoch 75/100\n",
            "426/426 [==============================] - 0s 105us/step - loss: 0.5630 - binary_accuracy: 0.9225\n",
            "Epoch 76/100\n",
            "426/426 [==============================] - 0s 120us/step - loss: 0.6401 - binary_accuracy: 0.8850\n",
            "Epoch 77/100\n",
            "426/426 [==============================] - 0s 110us/step - loss: 0.5802 - binary_accuracy: 0.9178\n",
            "Epoch 78/100\n",
            "426/426 [==============================] - 0s 114us/step - loss: 0.5989 - binary_accuracy: 0.9085\n",
            "Epoch 79/100\n",
            "426/426 [==============================] - 0s 107us/step - loss: 0.5861 - binary_accuracy: 0.9178\n",
            "Epoch 80/100\n",
            "426/426 [==============================] - 0s 119us/step - loss: 0.6418 - binary_accuracy: 0.8991\n",
            "Epoch 81/100\n",
            "426/426 [==============================] - 0s 109us/step - loss: 0.5841 - binary_accuracy: 0.9108\n",
            "Epoch 82/100\n",
            "426/426 [==============================] - 0s 109us/step - loss: 0.6343 - binary_accuracy: 0.8967\n",
            "Epoch 83/100\n",
            "426/426 [==============================] - 0s 111us/step - loss: 0.8714 - binary_accuracy: 0.8662\n",
            "Epoch 84/100\n",
            "426/426 [==============================] - 0s 103us/step - loss: 0.5879 - binary_accuracy: 0.9225\n",
            "Epoch 85/100\n",
            "426/426 [==============================] - 0s 137us/step - loss: 0.5916 - binary_accuracy: 0.9108\n",
            "Epoch 86/100\n",
            "426/426 [==============================] - 0s 118us/step - loss: 0.6788 - binary_accuracy: 0.8920\n",
            "Epoch 87/100\n",
            "426/426 [==============================] - 0s 107us/step - loss: 0.5867 - binary_accuracy: 0.8991\n",
            "Epoch 88/100\n",
            "426/426 [==============================] - 0s 105us/step - loss: 0.5921 - binary_accuracy: 0.9108\n",
            "Epoch 89/100\n",
            "426/426 [==============================] - 0s 123us/step - loss: 0.5511 - binary_accuracy: 0.9178\n",
            "Epoch 90/100\n",
            "426/426 [==============================] - 0s 118us/step - loss: 0.6888 - binary_accuracy: 0.8803\n",
            "Epoch 91/100\n",
            "426/426 [==============================] - 0s 120us/step - loss: 0.6811 - binary_accuracy: 0.8803\n",
            "Epoch 92/100\n",
            "426/426 [==============================] - 0s 108us/step - loss: 0.5951 - binary_accuracy: 0.9108\n",
            "Epoch 93/100\n",
            "426/426 [==============================] - 0s 112us/step - loss: 0.7191 - binary_accuracy: 0.8826\n",
            "Epoch 94/100\n",
            "426/426 [==============================] - 0s 116us/step - loss: 0.6114 - binary_accuracy: 0.9038\n",
            "Epoch 95/100\n",
            "426/426 [==============================] - 0s 118us/step - loss: 0.5689 - binary_accuracy: 0.9178\n",
            "Epoch 96/100\n",
            "426/426 [==============================] - 0s 115us/step - loss: 0.5411 - binary_accuracy: 0.9272\n",
            "Epoch 97/100\n",
            "426/426 [==============================] - 0s 116us/step - loss: 0.5713 - binary_accuracy: 0.9108\n",
            "Epoch 98/100\n",
            "426/426 [==============================] - 0s 126us/step - loss: 0.5444 - binary_accuracy: 0.9272\n",
            "Epoch 99/100\n",
            "426/426 [==============================] - 0s 113us/step - loss: 0.5513 - binary_accuracy: 0.9178\n",
            "Epoch 100/100\n",
            "426/426 [==============================] - 0s 119us/step - loss: 0.6592 - binary_accuracy: 0.9014\n"
          ],
          "name": "stdout"
        },
        {
          "output_type": "execute_result",
          "data": {
            "text/plain": [
              "<keras.callbacks.History at 0x7feeb7b33f60>"
            ]
          },
          "metadata": {
            "tags": []
          },
          "execution_count": 22
        }
      ]
    }
  ]
}